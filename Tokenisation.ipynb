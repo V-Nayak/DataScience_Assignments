{
  "nbformat": 4,
  "nbformat_minor": 0,
  "metadata": {
    "colab": {
      "provenance": [],
      "authorship_tag": "ABX9TyMzS/aszbyvQI/ZfyZSqHaz",
      "include_colab_link": true
    },
    "kernelspec": {
      "name": "python3",
      "display_name": "Python 3"
    },
    "language_info": {
      "name": "python"
    }
  },
  "cells": [
    {
      "cell_type": "markdown",
      "metadata": {
        "id": "view-in-github",
        "colab_type": "text"
      },
      "source": [
        "<a href=\"https://colab.research.google.com/github/V-Nayak/DataScience_Assignments/blob/main/Tokenisation.ipynb\" target=\"_parent\"><img src=\"https://colab.research.google.com/assets/colab-badge.svg\" alt=\"Open In Colab\"/></a>"
      ]
    },
    {
      "cell_type": "markdown",
      "source": [
        "NLP\n",
        "1.Data Preprocessing.\n",
        "2.Algorithm Development.\n",
        "\n",
        "## **1.Data Preprocessing:**\n",
        "1.lower casing\n",
        "2.Tokensiation\n",
        "3 Punctuation Mark removal\n",
        "4 Stop word Removal\n",
        "5 Stemming/Lammetisation."
      ],
      "metadata": {
        "id": "-2T9YB2kJ048"
      }
    }
  ]
}