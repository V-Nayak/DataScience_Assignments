{
  "nbformat": 4,
  "nbformat_minor": 0,
  "metadata": {
    "colab": {
      "name": "01_Assi.ipynb",
      "provenance": [],
      "authorship_tag": "ABX9TyMIBk+TN09TiH96VaZO8kRz",
      "include_colab_link": true
    },
    "kernelspec": {
      "name": "python3",
      "display_name": "Python 3"
    },
    "language_info": {
      "name": "python"
    }
  },
  "cells": [
    {
      "cell_type": "markdown",
      "metadata": {
        "id": "view-in-github",
        "colab_type": "text"
      },
      "source": [
        "<a href=\"https://colab.research.google.com/github/V-Nayak/DataScience_Assignments/blob/main/01_Assi.ipynb\" target=\"_parent\"><img src=\"https://colab.research.google.com/assets/colab-badge.svg\" alt=\"Open In Colab\"/></a>"
      ]
    },
    {
      "cell_type": "markdown",
      "source": [
        "Python program to Multiply all numbers in the list\n",
        "What are the ways to find the length of a list\n",
        "Python program to find the smallest and largest number in a list (Without min-max function)\n",
        "Python Program to find the area of a circle\n",
        "Take inputs from the user to make a list. Again take one input from the user and search it in the list and delete that element, if found. Iterate over a list using for loop.\n",
        "You are given a list of integer elements. Make a new list that will store a square of elements of the previous list. (With and without list comprehension)\n",
        "i. Input_list = [2,5,6,12]\n",
        "\n",
        "ii. Output_list = [4,25,36,144]"
      ],
      "metadata": {
        "id": "hpnZWDclfGTK"
      }
    },
    {
      "cell_type": "markdown",
      "source": [
        "## 1.What is a List?\n",
        "\n",
        "list is data type which represents the heterogneous Mutable duplicate elements in [].Which can be accessed through Indexing and Sliceing.\n",
        "\n"
      ],
      "metadata": {
        "id": "0nLOxmaDfNOk"
      }
    },
    {
      "cell_type": "code",
      "source": [
        "list = []\n",
        "print (list)\n",
        "l =[1,\"ab\",'$$',1]\n",
        "print (l)"
      ],
      "metadata": {
        "id": "AopgtBDMgLY6",
        "colab": {
          "base_uri": "https://localhost:8080/"
        },
        "outputId": "de4ba955-4b9a-48a9-9a38-e9dc0d463e0d"
      },
      "execution_count": 11,
      "outputs": [
        {
          "output_type": "stream",
          "name": "stdout",
          "text": [
            "[]\n",
            "[1, 'ab', '$$', 1]\n"
          ]
        }
      ]
    },
    {
      "cell_type": "markdown",
      "source": [
        "## 2.What is a Tuple?\n",
        "\n",
        "tuple data type represents heterogenous,dulicable but immutable elements sepearated by comma in simple parenthesis.Which can be operated by indexing or slicing. "
      ],
      "metadata": {
        "id": "Y-p_9FH-szsy"
      }
    },
    {
      "cell_type": "code",
      "source": [
        "t = 1,2,2,\"ab\"\n",
        "print(t)"
      ],
      "metadata": {
        "colab": {
          "base_uri": "https://localhost:8080/",
          "height": 0
        },
        "id": "n_sXOsbAs9O5",
        "outputId": "8a1bc6e6-6abe-449b-d82c-19b5c5f74a52"
      },
      "execution_count": 4,
      "outputs": [
        {
          "output_type": "stream",
          "name": "stdout",
          "text": [
            "(1, 2, 2, 'ab')\n"
          ]
        }
      ]
    },
    {
      "cell_type": "markdown",
      "source": [
        "## 3.What is the difference between List and Tuple?\n",
        "\n",
        "**Mutablity**- list is mutable while tuple is not.\n",
        "\n",
        "**Brackets**- List is presented in Squre Brackets while tuple can be presented in simple parenthesis or without them."
      ],
      "metadata": {
        "id": "zkvxIyKVuLva"
      }
    },
    {
      "cell_type": "code",
      "source": [
        "list=[]\n",
        "list.append(\"DS\")\n",
        "print(list)\n"
      ],
      "metadata": {
        "colab": {
          "base_uri": "https://localhost:8080/"
        },
        "id": "v00J_pVxx-GH",
        "outputId": "77cebd22-5266-45b6-99e7-cb1857525f64"
      },
      "execution_count": 17,
      "outputs": [
        {
          "output_type": "stream",
          "name": "stdout",
          "text": [
            "['DS']\n"
          ]
        }
      ]
    },
    {
      "cell_type": "code",
      "source": [
        "t=()\n",
        "t.append(01)\n",
        "print(t)"
      ],
      "metadata": {
        "colab": {
          "base_uri": "https://localhost:8080/",
          "height": 131
        },
        "id": "xa_mq0S4y_vf",
        "outputId": "29bbf60e-0b71-4d4b-eeae-a01b56b2ebae"
      },
      "execution_count": 18,
      "outputs": [
        {
          "output_type": "error",
          "ename": "SyntaxError",
          "evalue": "ignored",
          "traceback": [
            "\u001b[0;36m  File \u001b[0;32m\"<ipython-input-18-7bb2068f38d4>\"\u001b[0;36m, line \u001b[0;32m2\u001b[0m\n\u001b[0;31m    t.append(01)\u001b[0m\n\u001b[0m              ^\u001b[0m\n\u001b[0;31mSyntaxError\u001b[0m\u001b[0;31m:\u001b[0m invalid token\n"
          ]
        }
      ]
    },
    {
      "cell_type": "markdown",
      "source": [
        "## 4.Python Program to find the largest element in the list"
      ],
      "metadata": {
        "id": "uRLJVflcwmDy"
      }
    },
    {
      "cell_type": "code",
      "source": [
        "list=[]\n",
        "list .insert(0,input(\"Enter the first no:\"))\n",
        "list .insert(1,input(\"Enter the Second no:\"))\n",
        "list .insert(2,input(\"Enter the third no:\"))\n",
        "list .insert(3,input(\"Enter the fourth no:\"))\n",
        "list .insert(4,input(\"Enter the fift no:\"))\n",
        "print(\"\\nGiven list is\")\n",
        "print(list)\n",
        "\n",
        "print(\"\\nlenght of the list is\")\n",
        "print(len(list))\n",
        "\n",
        "\n",
        "max_list=max(list)\n",
        " \n",
        " #n=list[0]\n",
        " # for n in list:\n",
        " #     if i>n\n",
        " #    n=i\n",
        "\n",
        "\n",
        "#max_no = reduce(lambda x, y: y if x < y else x,list)\n",
        "#print(max_no)\n",
        "\n",
        "print(\"\\nLaregst no is:\")\n",
        "print(max_list)\n",
        "  "
      ],
      "metadata": {
        "colab": {
          "base_uri": "https://localhost:8080/"
        },
        "id": "PZKAJodqzLxG",
        "outputId": "7bf4d308-6cfc-4783-e9fb-e81e2e272a2e"
      },
      "execution_count": 62,
      "outputs": [
        {
          "output_type": "stream",
          "name": "stdout",
          "text": [
            "Enter the first no:23\n",
            "Enter the Second no:33\n",
            "Enter the third no:55\n",
            "Enter the fourth no:77\n",
            "Enter the fift no:999\n",
            "\n",
            "Given list is\n",
            "['23', '33', '55', '77', '999']\n",
            "\n",
            "lenght of the list is\n",
            "5\n",
            "\n",
            "Laregst no is:\n",
            "999\n"
          ]
        }
      ]
    },
    {
      "cell_type": "markdown",
      "source": [
        "## 5.Python program to interchange first and last elements in a list."
      ],
      "metadata": {
        "id": "6VB1MyHTFleL"
      }
    },
    {
      "cell_type": "code",
      "source": [
        "list=[]   ## program to take 5 no from user and exchange first and last.\n",
        "#list=input(\"Enter the first no:\")\n",
        "\n",
        "list .insert(0,input(\"Enter the first no:\"))\n",
        "list .insert(1,input(\"Enter the Second no:\"))\n",
        "list .insert(2,input(\"Enter the third no:\"))\n",
        "list .insert(3,input(\"Enter the fourth no:\"))\n",
        "list .insert(4,input(\"Enter the fift no:\"))\n",
        "print(list)\n",
        "\n",
        "  def swapPositions(list, list[0], list[4]):\n",
        "     \n",
        "    list[0], list[4] = list[4], list[0]\n",
        "    return list\n",
        "     \n",
        "    pos1, pos2  = 1, 3\n",
        " \n",
        "    \n",
        "    print(swapPositions(List, pos1-2, pos2-1))\n",
        "    print(list)\n"
      ],
      "metadata": {
        "colab": {
          "base_uri": "https://localhost:8080/"
        },
        "id": "LWSKLSfuFklZ",
        "outputId": "de085267-1177-4574-ca22-f5b3c7eb13cb"
      },
      "execution_count": 49,
      "outputs": [
        {
          "output_type": "stream",
          "name": "stdout",
          "text": [
            "Enter the first no:1\n",
            "Enter the Second no:2\n",
            "Enter the third no:3\n",
            "Enter the fourth no:4\n",
            "Enter the fift no:5\n",
            "['1', '2', '3', '4', '5']\n"
          ]
        }
      ]
    },
    {
      "cell_type": "markdown",
      "source": [
        "## 6.Python program to Reverse a List"
      ],
      "metadata": {
        "id": "KxatsW2NYlu1"
      }
    },
    {
      "cell_type": "code",
      "source": [
        "del list \n",
        "list=[] \n",
        "list .insert(0,input(\"Enter the first no:\"))\n",
        "list .insert(1,input(\"Enter the Second no:\"))\n",
        "list .insert(2,input(\"Enter the third no:\"))\n",
        "list .insert(3,input(\"Enter the fourth no:\"))\n",
        "list .insert(4,input(\"Enter the fifth no:\"))\n",
        "print(list)\n",
        "\n",
        "print(\"\\nList in Reverse Order:\")\n",
        "print(list[::-1])\n"
      ],
      "metadata": {
        "colab": {
          "base_uri": "https://localhost:8080/"
        },
        "id": "3iAgs0i8Yq5x",
        "outputId": "9f0a7742-2bc1-446b-f52a-2c3fba612f9c"
      },
      "execution_count": 55,
      "outputs": [
        {
          "output_type": "stream",
          "name": "stdout",
          "text": [
            "Enter the first no:2\n",
            "Enter the Second no:3\n",
            "Enter the third no:4\n",
            "Enter the fourth no:5\n",
            "Enter the fift no:7\n",
            "['2', '3', '4', '5', '7']\n",
            "\n",
            "List in Reverse Order:\n",
            "['7', '5', '4', '3', '2']\n"
          ]
        }
      ]
    },
    {
      "cell_type": "markdown",
      "source": [
        "## 7.Python program to count occurrences of an element in a list"
      ],
      "metadata": {
        "id": "1873EoQObV97"
      }
    },
    {
      "cell_type": "code",
      "source": [
        "l=[]\n",
        "l=input(\"Enter list:\")\n",
        "d={}\n",
        "for x in l:\n",
        "  if x in d.keys():\n",
        "     d[x]=d[x]+1\n",
        "  else:\n",
        "     d[x]=1\n",
        "for k,v in d.items():\n",
        "   print(\"{} = {} Times\".format(k,v))"
      ],
      "metadata": {
        "colab": {
          "base_uri": "https://localhost:8080/"
        },
        "id": "KA8vx41taZpt",
        "outputId": "294b9c0e-264a-465c-8bf5-57eda99b8a70"
      },
      "execution_count": 65,
      "outputs": [
        {
          "output_type": "stream",
          "name": "stdout",
          "text": [
            "Enter Some list:1,2,3,4,5,1\n",
            "1 = 2 Times\n",
            ", = 5 Times\n",
            "2 = 1 Times\n",
            "3 = 1 Times\n",
            "4 = 1 Times\n",
            "5 = 1 Times\n"
          ]
        }
      ]
    },
    {
      "cell_type": "markdown",
      "source": [
        "## 8.Python program to find the sum of elements in a list"
      ],
      "metadata": {
        "id": "C50P_Zfug8OA"
      }
    },
    {
      "cell_type": "code",
      "source": [
        "del list\n",
        "list=[]\n",
        "list .insert(0,input(\"Enter the first no:\"))\n",
        "list .insert(1,input(\"Enter the Second no:\"))\n",
        "list .insert(2,input(\"Enter the third no:\"))\n",
        "list .insert(3,input(\"Enter the fourth no:\"))\n",
        "list .insert(4,input(\"Enter the fift no:\"))\n",
        "print(\"\\nGiven list is\")\n",
        "print(list)\n",
        "\n",
        "print(\"\\nSum of the elements in list is:\")\n",
        "\n",
        " \n",
        "print( \"Sum is\",list)"
      ],
      "metadata": {
        "colab": {
          "base_uri": "https://localhost:8080/",
          "height": 374
        },
        "id": "565IPGlFg_UJ",
        "outputId": "eeeb80be-4cbe-4731-bd7b-ac909aecf02e"
      },
      "execution_count": 69,
      "outputs": [
        {
          "output_type": "stream",
          "name": "stdout",
          "text": [
            "Enter the first no:1\n",
            "Enter the Second no:1\n",
            "Enter the third no:1\n",
            "Enter the fourth no:1\n",
            "Enter the fift no:1\n",
            "\n",
            "Given list is\n",
            "['1', '1', '1', '1', '1']\n",
            "\n",
            "Sum of the elements in list is:\n"
          ]
        },
        {
          "output_type": "error",
          "ename": "TypeError",
          "evalue": "ignored",
          "traceback": [
            "\u001b[0;31m---------------------------------------------------------------------------\u001b[0m",
            "\u001b[0;31mTypeError\u001b[0m                                 Traceback (most recent call last)",
            "\u001b[0;32m<ipython-input-69-b7dfb385a1aa>\u001b[0m in \u001b[0;36m<module>\u001b[0;34m()\u001b[0m\n\u001b[1;32m     12\u001b[0m \u001b[0;34m\u001b[0m\u001b[0m\n\u001b[1;32m     13\u001b[0m \u001b[0;32mimport\u001b[0m \u001b[0mmath\u001b[0m\u001b[0;34m\u001b[0m\u001b[0;34m\u001b[0m\u001b[0m\n\u001b[0;32m---> 14\u001b[0;31m \u001b[0mprint\u001b[0m\u001b[0;34m(\u001b[0m\u001b[0msum\u001b[0m\u001b[0;34m(\u001b[0m\u001b[0mlist\u001b[0m\u001b[0;34m)\u001b[0m\u001b[0;34m)\u001b[0m\u001b[0;34m\u001b[0m\u001b[0;34m\u001b[0m\u001b[0m\n\u001b[0m",
            "\u001b[0;31mTypeError\u001b[0m: unsupported operand type(s) for +: 'int' and 'str'"
          ]
        }
      ]
    }
  ]
}