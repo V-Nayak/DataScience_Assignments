{
  "nbformat": 4,
  "nbformat_minor": 0,
  "metadata": {
    "colab": {
      "name": "01_Assi.ipynb",
      "provenance": [],
      "authorship_tag": "ABX9TyM0rA2bnrx8EalvR4vYwzcK",
      "include_colab_link": true
    },
    "kernelspec": {
      "name": "python3",
      "display_name": "Python 3"
    },
    "language_info": {
      "name": "python"
    }
  },
  "cells": [
    {
      "cell_type": "markdown",
      "metadata": {
        "id": "view-in-github",
        "colab_type": "text"
      },
      "source": [
        "<a href=\"https://colab.research.google.com/github/V-Nayak/DataScience_Assignments/blob/main/01_Assi.ipynb\" target=\"_parent\"><img src=\"https://colab.research.google.com/assets/colab-badge.svg\" alt=\"Open In Colab\"/></a>"
      ]
    },
    {
      "cell_type": "markdown",
      "source": [
        "What is a Tuple?\n",
        "What is the difference between List and Tuple?\n",
        "Python Program to find the largest element in the list\n",
        "Python program to interchange first and last elements in a list.\n",
        "Python program to swap two elements in a list\n",
        "Python program to Reverse a List\n",
        "Python program to count occurrences of an element in a list\n",
        "Python program to find the sum of elements in a list\n",
        "Python program to Multiply all numbers in the list\n",
        "What are the ways to find the length of a list\n",
        "Python program to find the smallest and largest number in a list (Without min-max function)\n",
        "Python Program to find the area of a circle\n",
        "Take inputs from the user to make a list. Again take one input from the user and search it in the list and delete that element, if found. Iterate over a list using for loop.\n",
        "You are given a list of integer elements. Make a new list that will store a square of elements of the previous list. (With and without list comprehension)\n",
        "i. Input_list = [2,5,6,12]\n",
        "\n",
        "ii. Output_list = [4,25,36,144]"
      ],
      "metadata": {
        "id": "hpnZWDclfGTK"
      }
    },
    {
      "cell_type": "markdown",
      "source": [
        "1.  What is a List?\n",
        "\n",
        "list is data type which represents the heterogneous Mutable duplicate elements[in this brackets].Which can be opeated through Indexing and Sliceing.\n",
        "\n"
      ],
      "metadata": {
        "id": "0nLOxmaDfNOk"
      }
    },
    {
      "cell_type": "code",
      "source": [
        "list = []\n",
        "print (list)\n",
        "l =[1,\"ab\",'$$',1]\n",
        "print (l)"
      ],
      "metadata": {
        "id": "AopgtBDMgLY6",
        "colab": {
          "base_uri": "https://localhost:8080/"
        },
        "outputId": "2f70fde8-0907-4a26-ae02-98f4949ce1a1"
      },
      "execution_count": 3,
      "outputs": [
        {
          "output_type": "stream",
          "name": "stdout",
          "text": [
            "[]\n",
            "[1, 'ab', '$$', 1]\n"
          ]
        }
      ]
    }
  ]
}