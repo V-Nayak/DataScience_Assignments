{
  "nbformat": 4,
  "nbformat_minor": 0,
  "metadata": {
    "colab": {
      "name": "01_Assi.ipynb",
      "provenance": [],
      "authorship_tag": "ABX9TyPNZp6wFI/+Vab9kXdSBIph",
      "include_colab_link": true
    },
    "kernelspec": {
      "name": "python3",
      "display_name": "Python 3"
    },
    "language_info": {
      "name": "python"
    }
  },
  "cells": [
    {
      "cell_type": "markdown",
      "metadata": {
        "id": "view-in-github",
        "colab_type": "text"
      },
      "source": [
        "<a href=\"https://colab.research.google.com/github/V-Nayak/DataScience_Assignments/blob/main/01_Assi.ipynb\" target=\"_parent\"><img src=\"https://colab.research.google.com/assets/colab-badge.svg\" alt=\"Open In Colab\"/></a>"
      ]
    },
    {
      "cell_type": "markdown",
      "source": [
        "Python program to interchange first and last elements in a list.\n",
        "Python program to swap two elements in a list\n",
        "Python program to Reverse a List\n",
        "Python program to count occurrences of an element in a list\n",
        "Python program to find the sum of elements in a list\n",
        "Python program to Multiply all numbers in the list\n",
        "What are the ways to find the length of a list\n",
        "Python program to find the smallest and largest number in a list (Without min-max function)\n",
        "Python Program to find the area of a circle\n",
        "Take inputs from the user to make a list. Again take one input from the user and search it in the list and delete that element, if found. Iterate over a list using for loop.\n",
        "You are given a list of integer elements. Make a new list that will store a square of elements of the previous list. (With and without list comprehension)\n",
        "i. Input_list = [2,5,6,12]\n",
        "\n",
        "ii. Output_list = [4,25,36,144]"
      ],
      "metadata": {
        "id": "hpnZWDclfGTK"
      }
    },
    {
      "cell_type": "markdown",
      "source": [
        "## 1.What is a List?\n",
        "\n",
        "list is data type which represents the heterogneous Mutable duplicate elements in [].Which can be accessed through Indexing and Sliceing.\n",
        "\n"
      ],
      "metadata": {
        "id": "0nLOxmaDfNOk"
      }
    },
    {
      "cell_type": "code",
      "source": [
        "list = []\n",
        "print (list)\n",
        "l =[1,\"ab\",'$$',1]\n",
        "print (l)"
      ],
      "metadata": {
        "id": "AopgtBDMgLY6",
        "colab": {
          "base_uri": "https://localhost:8080/"
        },
        "outputId": "de4ba955-4b9a-48a9-9a38-e9dc0d463e0d"
      },
      "execution_count": 11,
      "outputs": [
        {
          "output_type": "stream",
          "name": "stdout",
          "text": [
            "[]\n",
            "[1, 'ab', '$$', 1]\n"
          ]
        }
      ]
    },
    {
      "cell_type": "markdown",
      "source": [
        "## 2.What is a Tuple?\n",
        "\n",
        "tuple data type represents heterogenous,dulicable but immutable elements sepearated by comma in simple parenthesis.Which can be operated by indexing or slicing. "
      ],
      "metadata": {
        "id": "Y-p_9FH-szsy"
      }
    },
    {
      "cell_type": "code",
      "source": [
        "t = 1,2,2,\"ab\"\n",
        "print(t)"
      ],
      "metadata": {
        "colab": {
          "base_uri": "https://localhost:8080/",
          "height": 0
        },
        "id": "n_sXOsbAs9O5",
        "outputId": "8a1bc6e6-6abe-449b-d82c-19b5c5f74a52"
      },
      "execution_count": 4,
      "outputs": [
        {
          "output_type": "stream",
          "name": "stdout",
          "text": [
            "(1, 2, 2, 'ab')\n"
          ]
        }
      ]
    },
    {
      "cell_type": "markdown",
      "source": [
        "## 3.What is the difference between List and Tuple?\n",
        "\n",
        "**Mutablity**- list is mutable while tuple is not.\n",
        "\n",
        "**Brackets**- List is presented in Squre Brackets while tuple can be presented in simple parenthesis or without them."
      ],
      "metadata": {
        "id": "zkvxIyKVuLva"
      }
    },
    {
      "cell_type": "code",
      "source": [
        "list=[]\n",
        "list.append(\"DS\")\n",
        "print(list)\n"
      ],
      "metadata": {
        "colab": {
          "base_uri": "https://localhost:8080/"
        },
        "id": "v00J_pVxx-GH",
        "outputId": "77cebd22-5266-45b6-99e7-cb1857525f64"
      },
      "execution_count": 17,
      "outputs": [
        {
          "output_type": "stream",
          "name": "stdout",
          "text": [
            "['DS']\n"
          ]
        }
      ]
    },
    {
      "cell_type": "code",
      "source": [
        "t=()\n",
        "t.append(01)\n",
        "print(t)"
      ],
      "metadata": {
        "colab": {
          "base_uri": "https://localhost:8080/",
          "height": 131
        },
        "id": "xa_mq0S4y_vf",
        "outputId": "29bbf60e-0b71-4d4b-eeae-a01b56b2ebae"
      },
      "execution_count": 18,
      "outputs": [
        {
          "output_type": "error",
          "ename": "SyntaxError",
          "evalue": "ignored",
          "traceback": [
            "\u001b[0;36m  File \u001b[0;32m\"<ipython-input-18-7bb2068f38d4>\"\u001b[0;36m, line \u001b[0;32m2\u001b[0m\n\u001b[0;31m    t.append(01)\u001b[0m\n\u001b[0m              ^\u001b[0m\n\u001b[0;31mSyntaxError\u001b[0m\u001b[0;31m:\u001b[0m invalid token\n"
          ]
        }
      ]
    },
    {
      "cell_type": "markdown",
      "source": [
        "## 4.Python Program to find the largest element in the list"
      ],
      "metadata": {
        "id": "uRLJVflcwmDy"
      }
    },
    {
      "cell_type": "code",
      "source": [
        "list =input(\"Enter the no:\")"
      ],
      "metadata": {
        "id": "PZKAJodqzLxG"
      },
      "execution_count": null,
      "outputs": []
    }
  ]
}