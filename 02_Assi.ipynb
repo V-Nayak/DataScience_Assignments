{
  "nbformat": 4,
  "nbformat_minor": 0,
  "metadata": {
    "colab": {
      "name": "02_Assi.ipynb",
      "provenance": [],
      "authorship_tag": "ABX9TyPhvrIusOfTB4oYOE16yR6W",
      "include_colab_link": true
    },
    "kernelspec": {
      "name": "python3",
      "display_name": "Python 3"
    },
    "language_info": {
      "name": "python"
    }
  },
  "cells": [
    {
      "cell_type": "markdown",
      "metadata": {
        "id": "view-in-github",
        "colab_type": "text"
      },
      "source": [
        "<a href=\"https://colab.research.google.com/github/V-Nayak/DataScience_Assignments/blob/main/02_Assi.ipynb\" target=\"_parent\"><img src=\"https://colab.research.google.com/assets/colab-badge.svg\" alt=\"Open In Colab\"/></a>"
      ]
    },
    {
      "cell_type": "markdown",
      "source": [
        "## **Q. 1 What’s The Difference Between The Python append() and extend() Methods?**\n",
        "\n",
        "\n",
        "The main difference is append( ) method add elements in list. And extend( ) method join or concatenates the whole list that means 1st list add with another.\n",
        "\n",
        "In append add only single elements in list and in extend we can add multiple element"
      ],
      "metadata": {
        "id": "xi12ASLueAHI"
      }
    },
    {
      "cell_type": "code",
      "execution_count": 2,
      "metadata": {
        "id": "EuZwX0lWJu0Y",
        "colab": {
          "base_uri": "https://localhost:8080/"
        },
        "outputId": "1e62ef34-23bd-4816-e46f-814a8762d547"
      },
      "outputs": [
        {
          "output_type": "stream",
          "name": "stdout",
          "text": [
            "['Rajesh', 'Mahesh', 'Mayuresh']\n"
          ]
        }
      ],
      "source": [
        "l = [\"Rajesh\", \"Mahesh\"]\n",
        "l.append(\"Mayuresh\")\n",
        "print(l)"
      ]
    }
  ]
}