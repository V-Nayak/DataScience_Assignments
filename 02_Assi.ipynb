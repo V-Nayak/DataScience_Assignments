{
  "nbformat": 4,
  "nbformat_minor": 0,
  "metadata": {
    "colab": {
      "name": "02_Assi.ipynb",
      "provenance": [],
      "authorship_tag": "ABX9TyPTkIN2QMX5TdYG7yXn/epd",
      "include_colab_link": true
    },
    "kernelspec": {
      "name": "python3",
      "display_name": "Python 3"
    },
    "language_info": {
      "name": "python"
    }
  },
  "cells": [
    {
      "cell_type": "markdown",
      "metadata": {
        "id": "view-in-github",
        "colab_type": "text"
      },
      "source": [
        "<a href=\"https://colab.research.google.com/github/V-Nayak/DataScience_Assignments/blob/main/02_Assi.ipynb\" target=\"_parent\"><img src=\"https://colab.research.google.com/assets/colab-badge.svg\" alt=\"Open In Colab\"/></a>"
      ]
    },
    {
      "cell_type": "markdown",
      "source": [
        "1.What’s The Difference Between The Python append() and extend() Methods?\n",
        "\n",
        "2.Write a Python program to append a list to the second list\n",
        "\n",
        "3.Write a Python program to find the third-largest number in a list\n",
        "\n",
        "4.Write a Python program to get the frequency of the elements in a list.\n",
        "\n",
        "5.Write a Python program to check whether a list contains a sublist\n",
        "\n",
        "6.Write a Python program to generate all sublists of a list\n",
        "\n",
        "7.Write a Python program to find common items from two lists\n",
        "\n",
        "8.How to flatten a list in python?\n",
        "\n",
        "9.How to sort a list in ascending and descending order without using the sort function?\n",
        "\n",
        "10.How to sort a tuple?\n",
        "\n",
        "11.Write a Python program to convert a list of multiple integers into a single integer\n",
        "a. [11, 33, 50] >>> 113350\n",
        "\n",
        "1.Difference between del and clear?\n",
        "\n",
        "2.Difference between remove and pop?\n",
        "\n",
        "3.Difference between indexing and Slicing?\n",
        "\n",
        "4.Difference between sort and sorted?\n",
        "\n",
        "5.Difference between reverse and reversed?\n",
        "\n",
        "6.Difference between copy and deep copy?\n",
        "\n",
        "7.How to check whether the list is empty or not?\n",
        "\n",
        "8.How to concatenate two lists?\n",
        "\n",
        "9.How to find the occurrences of an element in the python list?\n",
        "\n",
        "10.How to flatten a list in python?"
      ],
      "metadata": {
        "id": "zhSH8jqswSoK"
      }
    },
    {
      "cell_type": "markdown",
      "source": [
        "## **Q. 1 What’s The Difference Between The Python append() and extend() Methods?**\n",
        "\n",
        "\n",
        "The main difference is append( ) method add elements in list. And extend( ) method join or concatenates the whole list that means 1st list add with another.\n",
        "\n",
        "In append add only single elements in list and in extend we can add multiple element"
      ],
      "metadata": {
        "id": "xi12ASLueAHI"
      }
    },
    {
      "cell_type": "code",
      "execution_count": null,
      "metadata": {
        "id": "EuZwX0lWJu0Y",
        "colab": {
          "base_uri": "https://localhost:8080/"
        },
        "outputId": "1e62ef34-23bd-4816-e46f-814a8762d547"
      },
      "outputs": [
        {
          "output_type": "stream",
          "name": "stdout",
          "text": [
            "['Rajesh', 'Mahesh', 'Mayuresh']\n"
          ]
        }
      ],
      "source": [
        "l = [\"Rajesh\", \"Mahesh\"]\n",
        "l.append(\"Mayuresh\")\n",
        "print(l)"
      ]
    },
    {
      "cell_type": "code",
      "source": [
        "l1 = [\"welocome\",\"to\",\"world\"]\n",
        "l2=[\"of\", \"Data\",\"Science\"]\n",
        "l1.extend(l2)\n",
        "print(l1)"
      ],
      "metadata": {
        "colab": {
          "base_uri": "https://localhost:8080/"
        },
        "id": "Loa8Pv8nlzCi",
        "outputId": "72ff523e-03f3-4640-e48f-6c8b0b7984a3"
      },
      "execution_count": null,
      "outputs": [
        {
          "output_type": "stream",
          "name": "stdout",
          "text": [
            "['welocome', 'to', 'world', 'of', 'Data', 'Science']\n"
          ]
        }
      ]
    }
  ]
}